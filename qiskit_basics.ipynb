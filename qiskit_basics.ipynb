{
 "cells": [
  {
   "cell_type": "markdown",
   "source": [],
   "metadata": {
    "collapsed": false
   },
   "id": "a52fbd47e6263f53"
  },
  {
   "cell_type": "code",
   "execution_count": 25,
   "outputs": [],
   "source": [
    "from qiskit import QuantumRegister, ClassicalRegister, QuantumCircuit"
   ],
   "metadata": {
    "collapsed": false,
    "ExecuteTime": {
     "end_time": "2024-05-04T22:19:59.281038Z",
     "start_time": "2024-05-04T22:19:59.263877Z"
    }
   },
   "id": "1b27ff72cc761da8"
  },
  {
   "cell_type": "code",
   "execution_count": 26,
   "id": "initial_id",
   "metadata": {
    "collapsed": true,
    "ExecuteTime": {
     "end_time": "2024-05-04T22:19:59.336856Z",
     "start_time": "2024-05-04T22:19:59.275773Z"
    }
   },
   "outputs": [
    {
     "data": {
      "text/plain": "<Figure size 161.878x284.278 with 1 Axes>",
      "image/png": "[encoded data removed]"
     },
     "execution_count": 26,
     "metadata": {},
     "output_type": "execute_result"
    }
   ],
   "source": [
    "# Basic circuit\n",
    "# A circuit is made up of registers. a register can be either quantum or classical\n",
    "# a quantum register is made up of one qubit\n",
    "# classical is made up of a normal bit\n",
    "# in a circuit, there needs to be at least one register of any type\n",
    "# here we have a circuit with 2 classical registers and 2 classical registers\n",
    "qreg_q = QuantumRegister(2, 'q')\n",
    "creg_c = ClassicalRegister(2, 'c')\n",
    "\n",
    "circuit = QuantumCircuit(qreg_q, creg_c)\n",
    "circuit.draw(\"mpl\")    \n"
   ]
  },
  {
   "cell_type": "code",
   "execution_count": 27,
   "outputs": [],
   "source": [
    "# Adding gates\n",
    "# see ibm composer: https://quantum.ibm.com/composer/files/new\n",
    "# sometimes you will have to write code for gates but a lot of the time you can use ibm composer\n"
   ],
   "metadata": {
    "collapsed": false,
    "ExecuteTime": {
     "end_time": "2024-05-04T22:19:59.344372Z",
     "start_time": "2024-05-04T22:19:59.340271Z"
    }
   },
   "id": "7277f33c0adfbd18"
  },
  {
   "cell_type": "code",
   "execution_count": 35,
   "outputs": [
    {
     "data": {
      "text/plain": "<Figure size 287.294x284.278 with 1 Axes>",
      "image/png": "[encoded data removed]"
     },
     "execution_count": 35,
     "metadata": {},
     "output_type": "execute_result"
    }
   ],
   "source": [
    "qreg_q = QuantumRegister(2, 'q')\n",
    "creg_c = ClassicalRegister(2, 'c')\n",
    "circuit = QuantumCircuit(qreg_q, creg_c)\n",
    " \n",
    "# adding gates: ***important the order in which you write the code is the order in which gates happen on a given register\n",
    "circuit.x(qreg_q[0])\n",
    "circuit.h(qreg_q[0])   \n",
    "circuit.h(qreg_q[1])\n",
    "# note another way to write the above 2 lines is circuit.h([0, 1])  \n",
    "\n",
    "circuit.measure(qreg_q[0], creg_c[0]) # measure() inputs are qubit being measured and the classical bit to put the measurement into. Note this only measures one qubit\n",
    "# you could use the circuit.measure_all() method but this measure all qubits instead of one qubit\n",
    "\n",
    "circuit.draw(\"mpl\")  \n"
   ],
   "metadata": {
    "collapsed": false,
    "ExecuteTime": {
     "end_time": "2024-05-04T22:24:17.480083Z",
     "start_time": "2024-05-04T22:24:17.358811Z"
    }
   },
   "id": "e52210beb40aeba9"
  },
  {
   "cell_type": "code",
   "execution_count": 30,
   "outputs": [],
   "source": [
    "# Simulation"
   ],
   "metadata": {
    "collapsed": false,
    "ExecuteTime": {
     "end_time": "2024-05-04T22:19:59.519617Z",
     "start_time": "2024-05-04T22:19:59.513030Z"
    }
   },
   "id": "fd1efcf674566d79"
  },
  {
   "cell_type": "code",
   "execution_count": 31,
   "outputs": [
    {
     "name": "stdout",
     "output_type": "stream",
     "text": [
      "{'00': 493, '01': 507}\n"
     ]
    }
   ],
   "source": [
    "qreg_q = QuantumRegister(2, 'q')\n",
    "creg_c = ClassicalRegister(2, 'c')\n",
    "circuit = QuantumCircuit(qreg_q, creg_c)\n",
    " \n",
    "circuit.x(qreg_q[0])\n",
    "circuit.h(qreg_q[0])   \n",
    "circuit.h(qreg_q[1]) \n",
    "circuit.measure(qreg_q[0], creg_c[0])\n",
    "\n",
    "# simulator stuff begins\n",
    "from qiskit_aer.backends.qasm_simulator import QasmSimulator\n",
    "from qiskit import transpile\n",
    "\n",
    "simulator = QasmSimulator()\n",
    "compiled_circuit = transpile(circuit, simulator) \n",
    "\n",
    "# Execute the circuit on the qasm simulator\n",
    "job = simulator.run(compiled_circuit , shots=1000)\n",
    "\n",
    "# Grab results from the job\n",
    "result = job.result()\n",
    "\n",
    "# Returns counts\n",
    "counts = result.get_counts(compiled_circuit)\n",
    "\n",
    "print(counts)  \n",
    "# note that we only get 2 because we only measured the first qubit (far right)\n",
    "# if we measured both qubits we would get EXPECT to get 4 combinations (as both qubits are in superposition)"
   ],
   "metadata": {
    "collapsed": false,
    "ExecuteTime": {
     "end_time": "2024-05-04T22:19:59.558705Z",
     "start_time": "2024-05-04T22:19:59.518963Z"
    }
   },
   "id": "9752f7d99e61c3d1"
  },
  {
   "cell_type": "code",
   "execution_count": null,
   "outputs": [],
   "source": [
    "# Conditional adding of gates"
   ],
   "metadata": {
    "collapsed": false
   },
   "id": "a77cc10ec8da73ed"
  },
  {
   "cell_type": "code",
   "execution_count": 34,
   "outputs": [
    {
     "name": "stdout",
     "output_type": "stream",
     "text": [
      "binary help 255\n",
      "binary help 11111111\n"
     ]
    },
    {
     "data": {
      "text/plain": "<Figure size 287.294x284.278 with 1 Axes>",
      "image/png": "[encoded data removed]"
     },
     "execution_count": 34,
     "metadata": {},
     "output_type": "execute_result"
    }
   ],
   "source": [
    "qreg_q = QuantumRegister(2, 'q')\n",
    "creg_c = ClassicalRegister(2, 'c')\n",
    "circuit = QuantumCircuit(qreg_q, creg_c)\n",
    " \n",
    "# the c_if(creg_c, NUMBER) method evaluates to true if NUMBER corresponds to the measurements on the classical registers.\n",
    "\n",
    "#    0     1     2     3      < NUMBER from changing the binary in the classical register to an integer\n",
    "# ['00', '01', '10', '11',]   < qubit measurement binary string. 1st entry means both qubit0 and qubit1 are measured to be 0. 2nd entry means qubit0 is measured to be 1 and qubit1 is 0.\n",
    "\n",
    "# if you need help translating binary and vice versa\n",
    "print(\"binary help\", int('11111111', 2))\n",
    "print(\"binary help\", \"{0:b}\".format(255))\n",
    "\n",
    "# conditionally adding gates\n",
    "circuit.z(qreg_q[1]).c_if(creg_c, 1)  #adds a z gate if qubit0 is a 1 \n",
    "\n",
    "# conditionally adding gates\n",
    "circuit.z(qreg_q[1]).c_if(creg_c, 3)  #adds a z gate if qubit0 is a 1 AND qubit1 is a 1 \n",
    "\n",
    "circuit.draw(\"mpl\")   \n",
    "\n"
   ],
   "metadata": {
    "collapsed": false,
    "ExecuteTime": {
     "end_time": "2024-05-04T22:22:30.777902Z",
     "start_time": "2024-05-04T22:22:30.709788Z"
    }
   },
   "id": "76f21cef3374c99b"
  }
 ],
 "metadata": {
  "kernelspec": {
   "display_name": "Python 3",
   "language": "python",
   "name": "python3"
  },
  "language_info": {
   "codemirror_mode": {
    "name": "ipython",
    "version": 2
   },
   "file_extension": ".py",
   "mimetype": "text/x-python",
   "name": "python",
   "nbconvert_exporter": "python",
   "pygments_lexer": "ipython2",
   "version": "2.7.6"
  }
 },
 "nbformat": 4,
 "nbformat_minor": 5
}
